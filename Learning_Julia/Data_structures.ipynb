{
 "cells": [
  {
   "cell_type": "markdown",
   "metadata": {},
   "source": [
    "# Data Structures\n",
    "\n",
    "- dictionaries\n",
    "- tuples\n",
    "- arrays\n",
    "\n",
    "Tuples and arrays are ordered, dictionaries aren't. Arrays and dictionaries are mutable, tuples aren't."
   ]
  },
  {
   "cell_type": "markdown",
   "metadata": {},
   "source": [
    "## Dictionaries\n",
    "create using `Dict` command"
   ]
  },
  {
   "cell_type": "code",
   "execution_count": 7,
   "metadata": {},
   "outputs": [
    {
     "data": {
      "text/plain": [
       "Dict{String,String} with 1 entry:\n",
       "  \"Key\" => \"Value\""
      ]
     },
     "execution_count": 7,
     "metadata": {},
     "output_type": "execute_result"
    }
   ],
   "source": [
    "my_dict = Dict(\"Key\" => \"Value\")"
   ]
  },
  {
   "cell_type": "markdown",
   "metadata": {},
   "source": [
    "Add another entry to the dictionary."
   ]
  },
  {
   "cell_type": "code",
   "execution_count": 35,
   "metadata": {},
   "outputs": [
    {
     "data": {
      "text/plain": [
       "Dict{String,String} with 2 entries:\n",
       "  \"Key\"    => \"Value\"\n",
       "  \"NewKey\" => \"NewValue\""
      ]
     },
     "execution_count": 35,
     "metadata": {},
     "output_type": "execute_result"
    }
   ],
   "source": [
    "my_dict[\"NewKey\"] = \"NewValue\"\n",
    "my_dict"
   ]
  },
  {
   "cell_type": "markdown",
   "metadata": {},
   "source": [
    "And this is how you get a value from a dictionary using its key."
   ]
  },
  {
   "cell_type": "code",
   "execution_count": 36,
   "metadata": {},
   "outputs": [
    {
     "data": {
      "text/plain": [
       "\"NewValue\""
      ]
     },
     "execution_count": 36,
     "metadata": {},
     "output_type": "execute_result"
    }
   ],
   "source": [
    "my_dict[\"NewKey\"]"
   ]
  },
  {
   "cell_type": "markdown",
   "metadata": {},
   "source": [
    "Use the `pop!` function to get a value from the dictionary while simultaneously deleting the key-value pair from the dictionary."
   ]
  },
  {
   "cell_type": "code",
   "execution_count": 38,
   "metadata": {},
   "outputs": [
    {
     "data": {
      "text/plain": [
       "\"NewValue\""
      ]
     },
     "execution_count": 38,
     "metadata": {},
     "output_type": "execute_result"
    }
   ],
   "source": [
    "pop!(my_dict, \"NewKey\")"
   ]
  },
  {
   "cell_type": "code",
   "execution_count": 11,
   "metadata": {},
   "outputs": [
    {
     "data": {
      "text/plain": [
       "Dict{String,String} with 1 entry:\n",
       "  \"Key\" => \"Value\""
      ]
     },
     "execution_count": 11,
     "metadata": {},
     "output_type": "execute_result"
    }
   ],
   "source": [
    "my_dict"
   ]
  },
  {
   "cell_type": "markdown",
   "metadata": {},
   "source": [
    "Because dictionaries are unordered, you cannot index them. If you try, the dictionary will interpret the index as a key to look for in the dictionary."
   ]
  },
  {
   "cell_type": "markdown",
   "metadata": {},
   "source": [
    "## Tuples\n",
    "Create using parentheses."
   ]
  },
  {
   "cell_type": "code",
   "execution_count": 13,
   "metadata": {},
   "outputs": [
    {
     "data": {
      "text/plain": [
       "(\"panda\", \"lemur\", \"coyote\", \"leopard\")"
      ]
     },
     "execution_count": 13,
     "metadata": {},
     "output_type": "execute_result"
    }
   ],
   "source": [
    "my_animals = (\"panda\", \"lemur\", \"coyote\", \"leopard\")\n"
   ]
  },
  {
   "cell_type": "markdown",
   "metadata": {},
   "source": [
    "You can index tuples because they are ordered."
   ]
  },
  {
   "cell_type": "code",
   "execution_count": 16,
   "metadata": {},
   "outputs": [
    {
     "data": {
      "text/plain": [
       "\"panda\""
      ]
     },
     "execution_count": 16,
     "metadata": {},
     "output_type": "execute_result"
    }
   ],
   "source": [
    "my_animals[1]"
   ]
  },
  {
   "cell_type": "markdown",
   "metadata": {},
   "source": [
    "Note that the indexing sequence starts at 1 in Julia, not 0.\n",
    "\n",
    "Since tuples are immutable, you cannot update it, and we get an error message if we try."
   ]
  },
  {
   "cell_type": "code",
   "execution_count": 18,
   "metadata": {},
   "outputs": [
    {
     "ename": "MethodError",
     "evalue": "MethodError: no method matching setindex!(::NTuple{4,String}, ::String, ::Int64)",
     "output_type": "error",
     "traceback": [
      "MethodError: no method matching setindex!(::NTuple{4,String}, ::String, ::Int64)",
      "",
      "Stacktrace:",
      " [1] top-level scope at In[18]:1"
     ]
    }
   ],
   "source": [
    "my_animals[1] = \"Sea Lion\""
   ]
  },
  {
   "cell_type": "markdown",
   "metadata": {},
   "source": [
    "## Arrays\n",
    "\n",
    "Both mutable and ordered. Create using `[ ]`."
   ]
  },
  {
   "cell_type": "code",
   "execution_count": 19,
   "metadata": {},
   "outputs": [
    {
     "data": {
      "text/plain": [
       "4-element Array{String,1}:\n",
       " \"Wolf\"\n",
       " \"Caracal\"\n",
       " \"Fox\"\n",
       " \"Parakeet\""
      ]
     },
     "execution_count": 19,
     "metadata": {},
     "output_type": "execute_result"
    }
   ],
   "source": [
    "more_animals = [\"Wolf\", \"Caracal\", \"Fox\", \"Parakeet\"]"
   ]
  },
  {
   "cell_type": "markdown",
   "metadata": {},
   "source": [
    "Notice that it sees that the array contains strings.\n",
    "\n",
    "If you look below, the computer interprets the array as containing \"any\" type. The '1' following the type tells you that the array is 1 dimensional."
   ]
  },
  {
   "cell_type": "code",
   "execution_count": 20,
   "metadata": {},
   "outputs": [
    {
     "data": {
      "text/plain": [
       "3-element Array{Any,1}:\n",
       " 1\n",
       "  \"hello\"\n",
       " 4.55"
      ]
     },
     "execution_count": 20,
     "metadata": {},
     "output_type": "execute_result"
    }
   ],
   "source": [
    "new_array = [1, \"hello\", 4.55]"
   ]
  },
  {
   "cell_type": "markdown",
   "metadata": {},
   "source": [
    "You can index arrays."
   ]
  },
  {
   "cell_type": "code",
   "execution_count": 23,
   "metadata": {},
   "outputs": [
    {
     "data": {
      "text/plain": [
       "\"Fox\""
      ]
     },
     "execution_count": 23,
     "metadata": {},
     "output_type": "execute_result"
    }
   ],
   "source": [
    "more_animals[3]"
   ]
  },
  {
   "cell_type": "code",
   "execution_count": 25,
   "metadata": {},
   "outputs": [
    {
     "data": {
      "text/plain": [
       "4-element Array{String,1}:\n",
       " \"Wolf\"\n",
       " \"Caracal\"\n",
       " \"Sea Lion\"\n",
       " \"Parakeet\""
      ]
     },
     "execution_count": 25,
     "metadata": {},
     "output_type": "execute_result"
    }
   ],
   "source": [
    "more_animals[3] = \"Sea Lion\"\n",
    "more_animals"
   ]
  },
  {
   "cell_type": "markdown",
   "metadata": {},
   "source": [
    "You can add items to the array with the `push!` function, and remove them using the `pop!` function. `push!` adds an item to the end of the array, and `pop!` removes the last item in the array."
   ]
  },
  {
   "cell_type": "code",
   "execution_count": 26,
   "metadata": {},
   "outputs": [
    {
     "data": {
      "text/plain": [
       "5-element Array{String,1}:\n",
       " \"Wolf\"\n",
       " \"Caracal\"\n",
       " \"Sea Lion\"\n",
       " \"Parakeet\"\n",
       " \"Cobra\""
      ]
     },
     "execution_count": 26,
     "metadata": {},
     "output_type": "execute_result"
    }
   ],
   "source": [
    "push!(more_animals, \"Cobra\")"
   ]
  },
  {
   "cell_type": "code",
   "execution_count": 27,
   "metadata": {},
   "outputs": [
    {
     "data": {
      "text/plain": [
       "\"Cobra\""
      ]
     },
     "execution_count": 27,
     "metadata": {},
     "output_type": "execute_result"
    }
   ],
   "source": [
    "pop!(more_animals)"
   ]
  },
  {
   "cell_type": "code",
   "execution_count": 28,
   "metadata": {},
   "outputs": [
    {
     "data": {
      "text/plain": [
       "4-element Array{String,1}:\n",
       " \"Wolf\"\n",
       " \"Caracal\"\n",
       " \"Sea Lion\"\n",
       " \"Parakeet\""
      ]
     },
     "execution_count": 28,
     "metadata": {},
     "output_type": "execute_result"
    }
   ],
   "source": [
    "more_animals"
   ]
  },
  {
   "cell_type": "markdown",
   "metadata": {},
   "source": [
    "Now let's look at multi-dimensional arrays."
   ]
  },
  {
   "cell_type": "code",
   "execution_count": 30,
   "metadata": {},
   "outputs": [
    {
     "data": {
      "text/plain": [
       "3-element Array{Array{String,1},1}:\n",
       " [\"cake\", \"cookies\", \"ice cream\"]\n",
       " [\"duck\", \"bacon\"]\n",
       " [\"salt\"]"
      ]
     },
     "execution_count": 30,
     "metadata": {},
     "output_type": "execute_result"
    }
   ],
   "source": [
    "yum = [[\"cake\", \"cookies\", \"ice cream\"], [\"duck\", \"bacon\"], [\"salt\"]]\n"
   ]
  },
  {
   "cell_type": "markdown",
   "metadata": {},
   "source": [
    "You can create a random array by giving the `rand` function the dimensions of the array you want to create. In this case, we create a 2 dimensional array with 4 rows and 3 columns."
   ]
  },
  {
   "cell_type": "code",
   "execution_count": 31,
   "metadata": {},
   "outputs": [
    {
     "data": {
      "text/plain": [
       "4×3 Array{Float64,2}:\n",
       " 0.173306  0.178487  0.201103\n",
       " 0.871185  0.10529   0.20856\n",
       " 0.234614  0.576598  0.353623\n",
       " 0.875311  0.352697  0.422503"
      ]
     },
     "execution_count": 31,
     "metadata": {},
     "output_type": "execute_result"
    }
   ],
   "source": [
    "rand(4, 3)"
   ]
  },
  {
   "cell_type": "markdown",
   "metadata": {},
   "source": [
    "You can also create 3 dimensional arrays."
   ]
  },
  {
   "cell_type": "code",
   "execution_count": 32,
   "metadata": {},
   "outputs": [
    {
     "data": {
      "text/plain": [
       "4×3×2 Array{Float64,3}:\n",
       "[:, :, 1] =\n",
       " 0.743831  0.0342859  0.430299\n",
       " 0.148423  0.726573   0.222652\n",
       " 0.112088  0.204568   0.813057\n",
       " 0.492473  0.701045   0.541631\n",
       "\n",
       "[:, :, 2] =\n",
       " 0.891065   0.571949  0.795895\n",
       " 0.0652745  0.602899  0.682308\n",
       " 0.609384   0.764294  0.768822\n",
       " 0.772449   0.376024  0.747919"
      ]
     },
     "execution_count": 32,
     "metadata": {},
     "output_type": "execute_result"
    }
   ],
   "source": [
    "rand(4, 3, 2)"
   ]
  },
  {
   "cell_type": "markdown",
   "metadata": {},
   "source": [
    "Or even 4 dimensional arrays."
   ]
  },
  {
   "cell_type": "code",
   "execution_count": 34,
   "metadata": {},
   "outputs": [
    {
     "data": {
      "text/plain": [
       "5×4×3×2 Array{Float64,4}:\n",
       "[:, :, 1, 1] =\n",
       " 0.773221  0.856548  0.0477119   0.169434\n",
       " 0.435862  0.96683   0.878773    0.00519522\n",
       " 0.68805   0.696234  0.0307318   0.166783\n",
       " 0.631477  0.878503  0.00733281  0.248139\n",
       " 0.543581  0.710671  0.529144    0.689652\n",
       "\n",
       "[:, :, 2, 1] =\n",
       " 0.59008   0.177254  0.819867   0.63779\n",
       " 0.348209  0.942243  0.659577   0.906598\n",
       " 0.127283  0.644838  0.0777823  0.263492\n",
       " 0.453336  0.277585  0.175597   0.14573\n",
       " 0.614513  0.475106  0.949481   0.783582\n",
       "\n",
       "[:, :, 3, 1] =\n",
       " 0.133605   0.669748  0.898816  0.799927\n",
       " 0.570085   0.345559  0.202834  0.229433\n",
       " 0.461843   0.946512  0.332948  0.136991\n",
       " 0.0737105  0.626562  0.497476  0.336707\n",
       " 0.509204   0.78913   0.409406  0.24615\n",
       "\n",
       "[:, :, 1, 2] =\n",
       " 0.599798  0.63304   0.433934  0.478515\n",
       " 0.744191  0.995588  0.819197  0.189855\n",
       " 0.828894  0.613828  0.814241  0.693647\n",
       " 0.414237  0.608115  0.539531  0.174803\n",
       " 0.453252  0.189631  0.129607  0.518145\n",
       "\n",
       "[:, :, 2, 2] =\n",
       " 0.420491  0.083198  0.682121   0.0181087\n",
       " 0.410308  0.324299  0.0132914  0.500601\n",
       " 0.530781  0.715617  0.141267   0.424393\n",
       " 0.64539   0.612594  0.88146    0.719754\n",
       " 0.184957  0.44742   0.245513   0.542056\n",
       "\n",
       "[:, :, 3, 2] =\n",
       " 0.93756   0.160043  0.38676    0.729753\n",
       " 0.573846  0.601325  0.0243151  0.697062\n",
       " 0.673876  0.387263  0.277635   0.974426\n",
       " 0.953549  0.7601    0.196992   0.446805\n",
       " 0.509037  0.423814  0.864128   0.802489"
      ]
     },
     "execution_count": 34,
     "metadata": {},
     "output_type": "execute_result"
    }
   ],
   "source": [
    "rand(5, 4, 3, 2)"
   ]
  },
  {
   "cell_type": "code",
   "execution_count": null,
   "metadata": {},
   "outputs": [],
   "source": []
  }
 ],
 "metadata": {
  "kernelspec": {
   "display_name": "Julia 1.4.2",
   "language": "julia",
   "name": "julia-1.4"
  },
  "language_info": {
   "file_extension": ".jl",
   "mimetype": "application/julia",
   "name": "julia",
   "version": "1.4.2"
  }
 },
 "nbformat": 4,
 "nbformat_minor": 4
}
