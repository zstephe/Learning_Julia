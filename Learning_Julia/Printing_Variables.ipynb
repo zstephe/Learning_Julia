{
 "cells": [
  {
   "cell_type": "markdown",
   "metadata": {},
   "source": [
    "# Variables\n",
    "\n",
    "To print in Julie use 'println'. Using just 'print' will work as well, but it won't add a newline at the end of the output.\n",
    "\n",
    "The last line in a cell will automatically print."
   ]
  },
  {
   "cell_type": "code",
   "execution_count": 7,
   "metadata": {},
   "outputs": [
    {
     "name": "stdout",
     "output_type": "stream",
     "text": [
      "hello world\n"
     ]
    },
    {
     "data": {
      "text/plain": [
       "\"what did you say\""
      ]
     },
     "execution_count": 7,
     "metadata": {},
     "output_type": "execute_result"
    }
   ],
   "source": [
    "println(\"hello world\")\n",
    "\"what did you say\""
   ]
  },
  {
   "cell_type": "markdown",
   "metadata": {},
   "source": [
    "If you don't want the last line to print, use a semicolon"
   ]
  },
  {
   "cell_type": "code",
   "execution_count": 8,
   "metadata": {},
   "outputs": [],
   "source": [
    "\"what did you say\";"
   ]
  },
  {
   "cell_type": "markdown",
   "metadata": {},
   "source": [
    "You don't need to assign types to variables, Julia will do it for you (similar to python)."
   ]
  },
  {
   "cell_type": "code",
   "execution_count": 17,
   "metadata": {},
   "outputs": [
    {
     "name": "stdout",
     "output_type": "stream",
     "text": [
      "Int64\n",
      "Float64\n",
      "String"
     ]
    }
   ],
   "source": [
    "int_var = 1002\n",
    "println(typeof(int_var))\n",
    "float_var = 3.1415\n",
    "println(typeof(float_var))\n",
    "string_var = \"I am awesome\"\n",
    "println(typeof(string_var))"
   ]
  },
  {
   "cell_type": "code",
   "execution_count": 19,
   "metadata": {},
   "outputs": [
    {
     "data": {
      "text/plain": [
       "\"I am awesome\""
      ]
     },
     "execution_count": 19,
     "metadata": {},
     "output_type": "execute_result"
    }
   ],
   "source": [
    "#this is a single line comment\n",
    "\n",
    "#= \n",
    "This \n",
    "is \n",
    "a\n",
    "multi\n",
    "line\n",
    "comment\n",
    "=#\n",
    "string_var"
   ]
  },
  {
   "cell_type": "markdown",
   "metadata": {},
   "source": [
    "Math is pretty simple\n",
    "- \\+ for adding\n",
    "- \\- for subtracting\n",
    "- \\* for multiplying\n",
    "- / for dividing\n",
    "- % for modulus\n",
    "- ^ for exponents!!!!!!!!!!!!! \n",
    "\n",
    "(This is the only one different from python)"
   ]
  },
  {
   "cell_type": "code",
   "execution_count": null,
   "metadata": {},
   "outputs": [],
   "source": []
  }
 ],
 "metadata": {
  "kernelspec": {
   "display_name": "Julia 1.4.2",
   "language": "julia",
   "name": "julia-1.4"
  },
  "language_info": {
   "file_extension": ".jl",
   "mimetype": "application/julia",
   "name": "julia",
   "version": "1.4.2"
  }
 },
 "nbformat": 4,
 "nbformat_minor": 4
}
